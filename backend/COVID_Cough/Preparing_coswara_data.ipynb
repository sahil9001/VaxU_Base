{
 "cells": [
  {
   "cell_type": "code",
   "execution_count": 1,
   "metadata": {},
   "outputs": [],
   "source": [
    "#data manip\n",
    "import pandas as pd\n",
    "import numpy as np\n",
    "\n",
    "#visual\n",
    "import matplotlib.pyplot as plt\n",
    "import seaborn as sns\n",
    "\n",
    "#navigating files\n",
    "import pathlib\n",
    "from pathlib import Path\n",
    "import os\n",
    "import shutil\n",
    "\n",
    "#reading json\n",
    "import json"
   ]
  },
  {
   "cell_type": "code",
   "execution_count": 91,
   "metadata": {},
   "outputs": [
    {
     "name": "stdout",
     "output_type": "stream",
     "text": [
      "There are 0 files with name .DS_Store\n"
     ]
    }
   ],
   "source": [
    "#function to remove .DS_Store on MACOS\n",
    "def remove_DS_Store(dir_path=\"./final_data/\"):\n",
    "    l = []\n",
    "    for path in Path(dir_path).rglob(\".DS_STORE\"):\n",
    "        assert (os.path.isfile(path))\n",
    "        l.append(path)\n",
    "        #print(path.name)\n",
    "        path.unlink()\n",
    "    assert (len(l) == 0)\n",
    "    print(f\"There are {len(l)} files with name .DS_Store\")\n",
    "\n",
    "#running func\n",
    "remove_DS_Store(dir_path=\"./final_data/\")"
   ]
  },
  {
   "cell_type": "code",
   "execution_count": 92,
   "metadata": {},
   "outputs": [],
   "source": [
    "#create dataframe and append values to it \n",
    "def gen_dataframe(fols_path=\"./final_data\"):\n",
    "    \n",
    "    #creating empty lists \n",
    "    ages = []\n",
    "    cov_stat = []\n",
    "    genders = []\n",
    "    wav_paths = []\n",
    "    \n",
    "    #listing files\n",
    "    fols = os.listdir(\"./final_data\")\n",
    "    fols.remove(\"combined_data.csv\")\n",
    "    \n",
    "    #empty dataframe\n",
    "    df = pd.DataFrame(columns=[\"ID\",\"Age\",\"Covid_status\",\"Gender\", \"wav_path\"])\n",
    "\n",
    "    for fol in fols:\n",
    "        full_wav_path = f\"./final_data/{fol}/cough-heavy.wav\"\n",
    "        wav_paths.append(full_wav_path)\n",
    "        with open(f\"./final_data/{fol}/metadata.json\") as json_file:\n",
    "            data = json.load(json_file)\n",
    "            ages.append(data['a'])\n",
    "            cov_stat.append(data['covid_status'])\n",
    "            genders.append(data['g'])\n",
    "    df['ID'] = fols\n",
    "    df['Age'] = ages\n",
    "    df['Covid_status'] = cov_stat\n",
    "    df['Gender'] = genders\n",
    "    df['wav_path'] = wav_paths\n",
    "    \n",
    "    maps = {\n",
    "            \"healthy\":\"Negative\",\n",
    "            \"no_resp_illness_exposed\":\"Negative\",\n",
    "            \"positive_moderate\":\"Positive\",\n",
    "            \"positive_asymp\":\"Positive\",\n",
    "            \"positive_mild\":\"Positive\",\n",
    "            \"recovered_full\":\"Negative\",\n",
    "            \"resp_illness_not_identified\":\"Unknown\"\n",
    "           }\n",
    "\n",
    "    df['Covid_status'] = df['Covid_status'].map(maps)\n",
    "    df['nums'] = list(range(df.shape[0]))\n",
    "    df['new_name'] = \"./final_data/\" + df['ID'] + \"/\" + df['nums'].astype(str)+ \"_\" + df['Covid_status']+ \"_\" + df['Gender']+ \"_\" + df['Age'].astype(str) + \".wav\"\n",
    "    df.drop(['nums'],axis=1,inplace=True)\n",
    "    \n",
    "    return df "
   ]
  },
  {
   "cell_type": "code",
   "execution_count": 93,
   "metadata": {},
   "outputs": [],
   "source": [
    "df = gen_dataframe(fols_path=\"./final_data\")"
   ]
  },
  {
   "cell_type": "code",
   "execution_count": 78,
   "metadata": {},
   "outputs": [],
   "source": [
    "def rename_move_files():\n",
    "    #renaming the files \n",
    "    old_names = list(df['wav_path'])\n",
    "    new_names = list(df['new_name'])\n",
    "    for idx, e in enumerate(old_names):\n",
    "        os.rename(e, new_names[idx])\n",
    "    results = ['Positive', 'Negative', 'Unknown']\n",
    "    for res in results: \n",
    "            pathlib.Path(f\"./cleaned_data/{res}\").mkdir(parents=True, exist_ok=True)\n",
    "            for files in Path(\"./final_data/\").rglob(\"*.wav\"):\n",
    "                if res in files.parts[2]: \n",
    "                    shutil.move(files, f\"./cleaned_data/{res}/{files.parts[2]}\")"
   ]
  },
  {
   "cell_type": "code",
   "execution_count": null,
   "metadata": {},
   "outputs": [],
   "source": [
    "#separating the positive from the negative ones \n",
    "pos_ones = df[df['Covid_status'] == \"Positive\"]\n",
    "neg_ones = df[df['Covid_status'] == \"Negative\"]\n",
    "unk_ones = df[df['Covid_status'] == \"Unknown\"]"
   ]
  },
  {
   "cell_type": "code",
   "execution_count": null,
   "metadata": {},
   "outputs": [],
   "source": [
    "#Thank you SO for this fine-tune over plot font sizes!!!\n",
    "SMALL_SIZE = 8\n",
    "MEDIUM_SIZE = 10\n",
    "BIGGER_SIZE = 20\n",
    "\n",
    "plt.rc('font', size=SMALL_SIZE)          # controls default text sizes\n",
    "plt.rc('axes', titlesize=SMALL_SIZE)     # fontsize of the axes title\n",
    "plt.rc('axes', labelsize=BIGGER_SIZE)    # fontsize of the x and y labels\n",
    "plt.rc('xtick', labelsize=BIGGER_SIZE)    # fontsize of the tick labels\n",
    "plt.rc('ytick', labelsize=BIGGER_SIZE)    # fontsize of the tick labels\n",
    "plt.rc('legend', fontsize=BIGGER_SIZE)    # legend fontsize\n",
    "plt.rc('figure', titlesize=BIGGER_SIZE)  # fontsize of the figure title"
   ]
  }
 ],
 "metadata": {
  "kernelspec": {
   "display_name": "Python 3",
   "language": "python",
   "name": "python3"
  },
  "language_info": {
   "codemirror_mode": {
    "name": "ipython",
    "version": 3
   },
   "file_extension": ".py",
   "mimetype": "text/x-python",
   "name": "python",
   "nbconvert_exporter": "python",
   "pygments_lexer": "ipython3",
   "version": "3.8.5"
  }
 },
 "nbformat": 4,
 "nbformat_minor": 4
}
